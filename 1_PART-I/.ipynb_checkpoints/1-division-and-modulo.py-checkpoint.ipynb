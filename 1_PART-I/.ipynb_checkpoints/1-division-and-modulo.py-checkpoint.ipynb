{
 "cells": [
  {
   "cell_type": "code",
   "execution_count": 1,
   "id": "8a67bb0c",
   "metadata": {},
   "outputs": [
    {
     "name": "stdout",
     "output_type": "stream",
     "text": [
      "5\n",
      "5\n",
      "kweli\n",
      "5\n",
      "3\n",
      "uongo, sio kweli\n"
     ]
    }
   ],
   "source": [
    "#divide /, //divide without remainder % determine the remainder\n",
    "\n",
    "a=(5*7 + 3)//7\n",
    "b=38 // 7\n",
    "print(a)\n",
    "print(b)\n",
    "\n",
    "if a==b:\n",
    "    print('kweli')\n",
    "    \n",
    "c=(5*7 + 3)//7\n",
    "d=38 % 7\n",
    "\n",
    "print(c)\n",
    "print(d)\n",
    "\n",
    "if c==d:\n",
    "    print('kweli')\n",
    "else:\n",
    "    print(\"uongo, sio kweli\")"
   ]
  },
  {
   "cell_type": "code",
   "execution_count": 2,
   "id": "9c594421",
   "metadata": {},
   "outputs": [
    {
     "name": "stdout",
     "output_type": "stream",
     "text": [
      "2 2 2 2 5 4 1 \n"
     ]
    }
   ],
   "source": [
    "#extraction of digits: to extract the digits of a number, combine module and division as long as the remaining value is greater than 0\n",
    "\n",
    "def extract_digits(number):\n",
    "    remaining_value = number\n",
    "    while remaining_value > 0:\n",
    "        digit = remaining_value % 10\n",
    "        remaining_value = remaining_value // 10\n",
    "        print(digit, end=' ')\n",
    "    print()\n",
    "\n",
    "extract_digits(1452222)"
   ]
  },
  {
   "cell_type": "markdown",
   "id": "e5d8273a",
   "metadata": {},
   "source": [
    "In Python, there is another special feature with the built-in function divmod(), which\n",
    "returns both the divisor and the remainder as a result—as a shortcut for the operators\n",
    "that are often called in combination. In addition, you can exploit tuple unpacking in the\n",
    "following, whereby the result is assigned to the respective variable:"
   ]
  },
  {
   "cell_type": "code",
   "execution_count": 4,
   "id": "54625b5e",
   "metadata": {},
   "outputs": [
    {
     "name": "stdout",
     "output_type": "stream",
     "text": [
      "6 2 7 8 5 1 \n"
     ]
    }
   ],
   "source": [
    "def extract_digits(x):\n",
    "    rem_val = x\n",
    "    while rem_val > 0:\n",
    "        rem_val, digit = divmod(rem_val, 10)\n",
    "        print(digit, end=' ')\n",
    "    print()\n",
    "    \n",
    "extract_digits(158726)"
   ]
  },
  {
   "cell_type": "markdown",
   "id": "9e437427",
   "metadata": {},
   "source": [
    "## Determine number of digits\n",
    " Instead of extracting individual digits, you can also use\n",
    "a repeated division to determine the number of digits in a decimal number by simply\n",
    "dividing by 10 until there is no remainder left:"
   ]
  },
  {
   "cell_type": "code",
   "execution_count": 5,
   "id": "086060be",
   "metadata": {},
   "outputs": [
    {
     "data": {
      "text/plain": [
       "3"
      ]
     },
     "execution_count": 5,
     "metadata": {},
     "output_type": "execute_result"
    }
   ],
   "source": [
    "def count_digits(y):\n",
    "    count = 0\n",
    "    remain_val = y\n",
    "    while remain_val > 0:\n",
    "        remain_val = remain_val//10\n",
    "        count +=1\n",
    "    return count\n",
    "\n",
    "count_digits(987)"
   ]
  },
  {
   "cell_type": "markdown",
   "id": "55dca2f3",
   "metadata": {},
   "source": [
    "## Short Introduction to Divider\n",
    "In the following, you examine how to determine all real divisors of a number (i. e., those\n",
    "without the number itself). The algorithm is quite simple. Initially, the result contains\n",
    "the number 1, as this is always a valid divider. Then you go through all numbers starting\n",
    "by 2 up to half of the value (all higher values cannot be integer divisors if 2 is already\n",
    "a divisor) and check if they divide the given number without a remainder. If this is the\n",
    "case, then this number is a divisor and is included in a result list. You implement the\n",
    "whole thing as follows:"
   ]
  },
  {
   "cell_type": "code",
   "execution_count": 15,
   "id": "3d2ba8fb",
   "metadata": {},
   "outputs": [
    {
     "data": {
      "text/plain": [
       "[1, 2, 4, 5, 10]"
      ]
     },
     "execution_count": 15,
     "metadata": {},
     "output_type": "execute_result"
    }
   ],
   "source": [
    "def find_proper_divisors(z):\n",
    "    divisors = [1]\n",
    "    for i in range(2, z // 2+1):\n",
    "        if z % i == 0:\n",
    "            divisors.append(i)\n",
    "    return divisors\n",
    "    \n",
    "find_proper_divisors(20)\n",
    "# find_proper_divisors(24)"
   ]
  },
  {
   "cell_type": "markdown",
   "id": "16305775",
   "metadata": {},
   "source": [
    "## code above explanation\n",
    "\n",
    " The code finds the proper divisors of a number.\n",
    " The code starts by creating an empty list called \"divisors\" and then iterating through all numbers from 2 to the square root of z, which is equal to z // 2+1.\n",
    " For each iteration, if the remainder after dividing by i is 0, then add that number to \"divisors\".\n",
    " After iterating through all possible divisors, return them as a list."
   ]
  },
  {
   "cell_type": "markdown",
   "id": "81e0d087",
   "metadata": {},
   "source": [
    "## Short Introduction to Prime Numbers\n",
    "A prime number is a natural number that is greater than 1 and exclusively divisible by\n",
    "itself and by 1. There are two quite understandable algorithms for checking whether a\n",
    "given number is prime or for calculating primes up to a given maximum value.\n",
    "Brute force algorithm for prime numbers Whether a number is a prime number or\n",
    "not can be determined as follows. You look for the number to be checked starting from 2\n",
    "up to at most half of the number, whether the current number is a divisor of the original\n",
    "number.2 In that case, it’s not a prime. Otherwise, it needs to be checked further. In\n",
    "Python, this can be written as follows:"
   ]
  },
  {
   "cell_type": "code",
   "execution_count": 17,
   "id": "0fc24c23",
   "metadata": {},
   "outputs": [
    {
     "data": {
      "text/plain": [
       "True"
      ]
     },
     "execution_count": 17,
     "metadata": {},
     "output_type": "execute_result"
    }
   ],
   "source": [
    "def is_prime(a):\n",
    "    for i in range(2, a//2+1):\n",
    "        if a % i == 0:\n",
    "            return False\n",
    "    return True\n",
    "\n",
    "is_prime(11)"
   ]
  }
 ],
 "metadata": {
  "kernelspec": {
   "display_name": "Python 3 (ipykernel)",
   "language": "python",
   "name": "python3"
  },
  "language_info": {
   "codemirror_mode": {
    "name": "ipython",
    "version": 3
   },
   "file_extension": ".py",
   "mimetype": "text/x-python",
   "name": "python",
   "nbconvert_exporter": "python",
   "pygments_lexer": "ipython3",
   "version": "3.11.0"
  }
 },
 "nbformat": 4,
 "nbformat_minor": 5
}
